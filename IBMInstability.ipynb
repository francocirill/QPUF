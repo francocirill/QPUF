{
 "cells": [
  {
   "cell_type": "code",
   "execution_count": null,
   "metadata": {
    "colab": {
     "base_uri": "https://localhost:8080/"
    },
    "id": "zF1RDW9-KDQ6",
    "outputId": "a367d283-f7f4-4703-d225-7cbb5d1ec8a3"
   },
   "outputs": [],
   "source": [
    "!pip install qiskit\n",
    "!pip install pylatexenc\n",
    "!pip install qiskit-ibm-provider"
   ]
  },
  {
   "cell_type": "code",
   "execution_count": 2,
   "metadata": {
    "id": "Kfs6Dj_VBMU3"
   },
   "outputs": [],
   "source": [
    "import numpy as np\n",
    "from qiskit import QuantumCircuit\n",
    "\n",
    "from qiskit import transpile\n",
    "\n",
    "import matplotlib.pyplot as plt\n",
    "plt.rcParams.update({'font.size': 14, 'font.family': 'serif', 'mathtext.fontset': 'dejavuserif'})\n",
    "import random\n",
    "import math\n",
    "from qiskit.visualization import plot_histogram\n",
    "import pandas as pd\n",
    "import seaborn as sns\n",
    "from qiskit_ibm_provider import IBMProvider"
   ]
  },
  {
   "cell_type": "code",
   "execution_count": 3,
   "metadata": {},
   "outputs": [],
   "source": [
    "def normalized_absolute_probabilistic_distance(dict1, dict2):\n",
    "    # Check if dictionaries have the same keys\n",
    "    if set(dict1.keys()) != set(dict2.keys()):\n",
    "        raise ValueError(\"Response must have the same lenght\")\n",
    "    # Compute the sum of the absolute differences between the corresponding values\n",
    "    sum_diff = sum(abs((dict1[key] - dict2[key])) for key in dict1.keys())\n",
    "    distance = sum_diff / 2 # Because the sum has range [0,2], then /2 to normalize to range [0,1]\n",
    "    return distance"
   ]
  },
  {
   "cell_type": "code",
   "execution_count": 4,
   "metadata": {
    "colab": {
     "base_uri": "https://localhost:8080/"
    },
    "id": "mVsA9AwDehZc",
    "outputId": "35053e8f-0a37-475b-e544-7981af1dc7ef"
   },
   "outputs": [
    {
     "name": "stdout",
     "output_type": "stream",
     "text": [
      "[<IBMBackend('simulator_mps')>, <IBMBackend('simulator_statevector')>, <IBMBackend('simulator_stabilizer')>, <IBMBackend('ibm_brisbane')>, <IBMBackend('ibm_kyoto')>, <IBMBackend('ibm_osaka')>, <IBMBackend('ibmq_qasm_simulator')>, <IBMBackend('simulator_extended_stabilizer')>]\n"
     ]
    }
   ],
   "source": [
    "provider = IBMProvider(token='YOUR_TOKEN')\n",
    "# display current supported backends\n",
    "print(provider.backends())"
   ]
  },
  {
   "cell_type": "markdown",
   "metadata": {
    "id": "nmJ43spH1fCw"
   },
   "source": [
    "Instability: for each challenge and for each pair of runs, calculate the Normalized Absolute Probabilistic Distance and show the distance graph. This should be as low as possible."
   ]
  },
  {
   "cell_type": "code",
   "execution_count": 5,
   "metadata": {
    "id": "9XZGfQ57ntsk"
   },
   "outputs": [],
   "source": [
    "# get IBM's simulator backend\n",
    "backend_array=[]\n",
    "backend_array.append(provider.get_backend('ibm_kyoto'))\n",
    "backend_array.append(provider.get_backend('ibm_osaka'))\n",
    "backend_array.append(provider.get_backend('ibm_brisbane'))"
   ]
  },
  {
   "cell_type": "code",
   "execution_count": null,
   "metadata": {
    "id": "9e3gS0rDchrI"
   },
   "outputs": [],
   "source": [
    "n_challenge = 10\n",
    "n_qubits = 8\n",
    "shots=20000\n",
    "n_runs = 5\n",
    "\n",
    "def generate_random_array():\n",
    "  x_challenge = []\n",
    "  for i in range(n_challenge):\n",
    "    tuple_values = tuple(random.uniform(0, 2*math.pi) for _ in range(n_qubits))\n",
    "    x_challenge.append(tuple_values)\n",
    "  return x_challenge\n",
    "\n",
    "a_challenge=generate_random_array()\n",
    "b_challenge=generate_random_array()\n",
    "c_challenge=generate_random_array()\n",
    "d_challenge=generate_random_array()\n",
    "e_challenge=generate_random_array()\n",
    "f_challenge=generate_random_array()\n"
   ]
  },
  {
   "cell_type": "code",
   "execution_count": 8,
   "metadata": {
    "colab": {
     "base_uri": "https://localhost:8080/",
     "height": 332
    },
    "id": "NZiCkDCygLZ2",
    "outputId": "34d53f73-243a-4ebf-f093-295b5c1a4c48"
   },
   "outputs": [
    {
     "name": "stdout",
     "output_type": "stream",
     "text": [
      "Dati salvati correttamente in: ./results/instability/inst_table0.csv\n",
      "Dati salvati correttamente in: ./results/instability/inst_table1.csv\n",
      "Dati salvati correttamente in: ./results/instability/inst_table2.csv\n"
     ]
    },
    {
     "data": {
      "text/html": [
       "<div>\n",
       "<style scoped>\n",
       "    .dataframe tbody tr th:only-of-type {\n",
       "        vertical-align: middle;\n",
       "    }\n",
       "\n",
       "    .dataframe tbody tr th {\n",
       "        vertical-align: top;\n",
       "    }\n",
       "\n",
       "    .dataframe thead th {\n",
       "        text-align: right;\n",
       "    }\n",
       "</style>\n",
       "<table border=\"1\" class=\"dataframe\">\n",
       "  <thead>\n",
       "    <tr style=\"text-align: right;\">\n",
       "      <th></th>\n",
       "      <th>n-th challenge</th>\n",
       "      <th>i-th execution</th>\n",
       "      <th>j-th execution</th>\n",
       "      <th>dist</th>\n",
       "    </tr>\n",
       "  </thead>\n",
       "  <tbody>\n",
       "    <tr>\n",
       "      <th>0</th>\n",
       "      <td>0</td>\n",
       "      <td>0</td>\n",
       "      <td>1</td>\n",
       "      <td>0.04980</td>\n",
       "    </tr>\n",
       "    <tr>\n",
       "      <th>1</th>\n",
       "      <td>0</td>\n",
       "      <td>0</td>\n",
       "      <td>2</td>\n",
       "      <td>0.04765</td>\n",
       "    </tr>\n",
       "    <tr>\n",
       "      <th>2</th>\n",
       "      <td>0</td>\n",
       "      <td>0</td>\n",
       "      <td>3</td>\n",
       "      <td>0.04990</td>\n",
       "    </tr>\n",
       "    <tr>\n",
       "      <th>3</th>\n",
       "      <td>0</td>\n",
       "      <td>0</td>\n",
       "      <td>4</td>\n",
       "      <td>0.05030</td>\n",
       "    </tr>\n",
       "    <tr>\n",
       "      <th>4</th>\n",
       "      <td>0</td>\n",
       "      <td>1</td>\n",
       "      <td>2</td>\n",
       "      <td>0.05190</td>\n",
       "    </tr>\n",
       "    <tr>\n",
       "      <th>...</th>\n",
       "      <td>...</td>\n",
       "      <td>...</td>\n",
       "      <td>...</td>\n",
       "      <td>...</td>\n",
       "    </tr>\n",
       "    <tr>\n",
       "      <th>95</th>\n",
       "      <td>9</td>\n",
       "      <td>1</td>\n",
       "      <td>3</td>\n",
       "      <td>0.05955</td>\n",
       "    </tr>\n",
       "    <tr>\n",
       "      <th>96</th>\n",
       "      <td>9</td>\n",
       "      <td>1</td>\n",
       "      <td>4</td>\n",
       "      <td>0.05820</td>\n",
       "    </tr>\n",
       "    <tr>\n",
       "      <th>97</th>\n",
       "      <td>9</td>\n",
       "      <td>2</td>\n",
       "      <td>3</td>\n",
       "      <td>0.05465</td>\n",
       "    </tr>\n",
       "    <tr>\n",
       "      <th>98</th>\n",
       "      <td>9</td>\n",
       "      <td>2</td>\n",
       "      <td>4</td>\n",
       "      <td>0.05460</td>\n",
       "    </tr>\n",
       "    <tr>\n",
       "      <th>99</th>\n",
       "      <td>9</td>\n",
       "      <td>3</td>\n",
       "      <td>4</td>\n",
       "      <td>0.05515</td>\n",
       "    </tr>\n",
       "  </tbody>\n",
       "</table>\n",
       "<p>100 rows × 4 columns</p>\n",
       "</div>"
      ],
      "text/plain": [
       "    n-th challenge  i-th execution  j-th execution     dist\n",
       "0                0               0               1  0.04980\n",
       "1                0               0               2  0.04765\n",
       "2                0               0               3  0.04990\n",
       "3                0               0               4  0.05030\n",
       "4                0               1               2  0.05190\n",
       "..             ...             ...             ...      ...\n",
       "95               9               1               3  0.05955\n",
       "96               9               1               4  0.05820\n",
       "97               9               2               3  0.05465\n",
       "98               9               2               4  0.05460\n",
       "99               9               3               4  0.05515\n",
       "\n",
       "[100 rows x 4 columns]"
      ]
     },
     "execution_count": 8,
     "metadata": {},
     "output_type": "execute_result"
    }
   ],
   "source": [
    "import json\n",
    "\n",
    "def qcirc(i):\n",
    "  # Create a Quantum Circuit\n",
    "  circuit = QuantumCircuit(n_qubits, n_qubits)\n",
    "  # Compute average response\n",
    "  for j in range(n_qubits):\n",
    "    if j%2==0:\n",
    "      circuit.rz(a_challenge[i][j],j)\n",
    "      circuit.ry(b_challenge[i][j],j)\n",
    "      circuit.rx(c_challenge[i][j],j)\n",
    "    else:\n",
    "      circuit.rz(d_challenge[i][j],j)\n",
    "      circuit.ry(e_challenge[i][j],j)\n",
    "      circuit.rx(f_challenge[i][j],j)\n",
    "      circuit.cz(j,j-1)\n",
    "\n",
    "  for j in range(1,n_qubits-1):\n",
    "    if j%2==1:\n",
    "      circuit.rz(a_challenge[i][j],j)\n",
    "      circuit.ry(b_challenge[i][j],j)\n",
    "      circuit.rx(c_challenge[i][j],j)\n",
    "    else:\n",
    "      circuit.rz(d_challenge[i][j],j)\n",
    "      circuit.ry(e_challenge[i][j],j)\n",
    "      circuit.rx(f_challenge[i][j],j)\n",
    "      circuit.cz(j,j-1)\n",
    "\n",
    "  circuit.barrier()\n",
    "  circuit.measure(range(n_qubits), range(n_qubits))\n",
    "  #drawing the circuit\n",
    "  #circuit.draw('mpl')\n",
    "  return circuit\n",
    "def qpuf_ibm(qc,backend):\n",
    "  qc_compiled = transpile(qc, backend)\n",
    "  job = backend.run(qc_compiled, shots=shots)\n",
    "  # list of dictionaries, one for each challenge\n",
    "  result = job.result().get_counts()\n",
    "  # list of formatted responses\n",
    "  responses=[]\n",
    "  for j in range(len(result)):\n",
    "    response = {}\n",
    "    for i in range(2**n_qubits):\n",
    "      binary_string = format(i, '0' + str(n_qubits) + 'b')\n",
    "      # If it finds the combination copy the value and divide it by the number of shots to normalize it between 0 and 1, otherwise put 0\n",
    "      response[binary_string] = result[j].get(binary_string,0)/shots\n",
    "    responses.append(response)\n",
    "  return responses\n",
    "\n",
    "def instability(i):\n",
    "    inst_table = pd.DataFrame(columns=[\"n-th challenge\", \"i-th execution\", \"j-th execution\", \"dist\"])\n",
    "    qc=[]\n",
    "    for n in range(n_challenge):\n",
    "        for _ in range(n_runs):\n",
    "            #metti in fila tutti i circuiti\n",
    "            qc.append(qcirc(n))\n",
    "    r=qpuf_ibm(qc,backend_array[i])\n",
    "    file_path = f'./results/instability/backend{i}_table.json'\n",
    "    with open(file_path, 'w') as json_file:\n",
    "      json.dump(r, json_file)\n",
    "    \n",
    "    for n in range(n_challenge):\n",
    "        # Extracts the circuits only for that challenge\n",
    "        same_response = [r[n*n_runs + k] for k in range(n_runs)]\n",
    "        for i in range(len(same_response)):\n",
    "            for j in range(i + 1, len(same_response)):\n",
    "                distance = normalized_absolute_probabilistic_distance(same_response[i], same_response[j])\n",
    "                inst_table.loc[len(inst_table)] = [n, i, j, distance]\n",
    "    inst_table[['n-th challenge', 'i-th execution', 'j-th execution']] = inst_table[['n-th challenge', 'i-th execution', 'j-th execution']].astype(int)\n",
    "    return inst_table\n",
    "inst_table=[]\n",
    "for i in range(len(backend_array)):\n",
    "    inst_table.append(instability(i))\n",
    "    file_path = f'./results/instability/inst_table{i}.csv'\n",
    "    inst_table[i].to_csv(file_path, index=False)\n",
    "    print(\"Dati salvati correttamente in:\", file_path)\n",
    "    \n",
    "inst_table[0]"
   ]
  },
  {
   "cell_type": "code",
   "execution_count": 9,
   "metadata": {
    "id": "X3hGWwrWQjjN"
   },
   "outputs": [
    {
     "data": {
      "image/png": "[encoded data removed]",
      "text/plain": [
       "<Figure size 432x288 with 1 Axes>"
      ]
     },
     "metadata": {
      "needs_background": "light"
     },
     "output_type": "display_data"
    },
    {
     "data": {
      "image/png": "[encoded data removed]",
      "text/plain": [
       "<Figure size 432x288 with 1 Axes>"
      ]
     },
     "metadata": {
      "needs_background": "light"
     },
     "output_type": "display_data"
    },
    {
     "data": {
      "image/png": "[encoded data removed]",
      "text/plain": [
       "<Figure size 432x288 with 1 Axes>"
      ]
     },
     "metadata": {
      "needs_background": "light"
     },
     "output_type": "display_data"
    }
   ],
   "source": [
    "# Plot Instability for each device\n",
    "for i, tab in enumerate(inst_table):\n",
    "    # Plot KDE plot\n",
    "    sns.kdeplot(tab['dist'])\n",
    "    # Set plot title\n",
    "    plt.title(f'Instability')\n",
    "    # Hide top and right spines\n",
    "    plt.gca().spines['top'].set_visible(False)\n",
    "    plt.gca().spines['right'].set_visible(False)\n",
    "    plt.xlabel('Distance')\n",
    "    # Save the plot\n",
    "    plt.savefig(f'./results/instability/instability_{i}.png')\n",
    "    # Show plot\n",
    "    plt.show()"
   ]
  }
 ],
 "metadata": {
  "colab": {
   "provenance": []
  },
  "kernelspec": {
   "display_name": "Python 3",
   "language": "python",
   "name": "python3"
  },
  "language_info": {
   "codemirror_mode": {
    "name": "ipython",
    "version": 3
   },
   "file_extension": ".py",
   "mimetype": "text/x-python",
   "name": "python",
   "nbconvert_exporter": "python",
   "pygments_lexer": "ipython3",
   "version": "3.8.3"
  }
 },
 "nbformat": 4,
 "nbformat_minor": 1
}
